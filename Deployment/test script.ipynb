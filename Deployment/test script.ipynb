{
 "cells": [
  {
   "cell_type": "code",
   "execution_count": 13,
   "id": "42d3acdd",
   "metadata": {},
   "outputs": [],
   "source": [
    "import numpy as np\n",
    "import pandas as pd\n",
    "import string\n",
    "\n",
    "import re\n",
    "import nltk\n",
    "import spacy\n",
    "from spacy import displacy\n",
    "from sklearn.model_selection import train_test_split\n",
    "from sklearn.metrics import confusion_matrix\n",
    "import matplotlib.pyplot as plt\n",
    "from spacy.attrs import LOWER, POS, ENT_TYPE, IS_ALPHA, LEMMA\n",
    "from spacy.tokens import Doc\n",
    "from sklearn.feature_extraction.text import TfidfVectorizer\n",
    "from sklearn.metrics import accuracy_score\n",
    "import sklearn.metrics as metrics\n",
    "import pickle\n",
    "nlp = spacy.load('en_core_web_lg')"
   ]
  },
  {
   "cell_type": "code",
   "execution_count": 14,
   "id": "1b9f700f",
   "metadata": {},
   "outputs": [],
   "source": [
    "def remove_stopwords(doc):\n",
    "    indexes = []\n",
    "    for index, token in enumerate(doc):\n",
    "        if token.is_stop:\n",
    "            indexes.append(index)\n",
    "    np_array = doc.to_array([LOWER, POS, ENT_TYPE, IS_ALPHA, LEMMA])\n",
    "    np_array = np.delete(np_array, indexes, axis = 0)\n",
    "    doc2 = Doc(doc.vocab, words=[t.text for i, t in enumerate(doc) if i not in indexes])\n",
    "    doc2.from_array([LOWER, POS, ENT_TYPE, IS_ALPHA, LEMMA], np_array)\n",
    "    return doc2\n",
    "def clean_header(text):\n",
    "    text = re.sub(r'(From:\\s+[^\\n]+\\n)', '', text)\n",
    "    text = re.sub(r'(Subject:[^\\n]+\\n)', '', text)\n",
    "    text = re.sub(r'(([\\sA-Za-z0-9\\-]+)?[A|a]rchive-name:[^\\n]+\\n)', '', text)\n",
    "    text = re.sub(r'(Last-modified:[^\\n]+\\n)', '', text)\n",
    "    text = re.sub(r'(Version:[^\\n]+\\n)', '', text)\n",
    "\n",
    "    return text\n",
    "def clean_text(text):        \n",
    "    text = text.lower()\n",
    "    text = text.strip()\n",
    "    text = re.sub(re_url, '', text)\n",
    "    text = re.sub(re_email, '', text)\n",
    "    text = re.sub(f'[{re.escape(string.punctuation)}]', '', text)\n",
    "    text = re.sub(r'(\\d+)', ' ', text)\n",
    "    text = re.sub(r'(\\s+)', ' ', text)\n",
    "    \n",
    "    return text"
   ]
  },
  {
   "cell_type": "code",
   "execution_count": 15,
   "id": "40c5fd17",
   "metadata": {},
   "outputs": [],
   "source": [
    "with open('103125','r',encoding='latin-1') as f:\n",
    "    data=f.read()"
   ]
  },
  {
   "cell_type": "code",
   "execution_count": 16,
   "id": "99c0ffd7",
   "metadata": {},
   "outputs": [
    {
     "data": {
      "text/plain": [
       "\"Path: cantaloupe.srv.cs.cmu.edu!das-news.harvard.edu!ogicse!emory!gatech!usenet.ins.cwru.edu!cleveland.Freenet.Edu!ai598\\nFrom: ai598@cleveland.Freenet.Edu (Mike Sturdevant)\\nNewsgroups: rec.motorcycles\\nSubject: Carrying crutches (was Re: Living\\nMessage-ID: <1pqhkl$g48@usenet.INS.CWRU.Edu>\\nDate: 6 Apr 93 00:07:49 GMT\\nArticle-I.D.: usenet.1pqhkl$g48\\nReferences: <1993Apr2.213402.10821@eos.arc.nasa.gov> <05APR93.02451203.0049@UNBVM1.CSD.UNB.CA> <1993Apr05.172836.36759@rchland.ibm.com>\\nReply-To: ai598@cleveland.Freenet.Edu (Mike Sturdevant)\\nOrganization: Case Western Reserve University, Cleveland, OH (USA)\\nLines: 18\\nNNTP-Posting-Host: slc10.ins.cwru.edu\\n\\n\\nIn a previous article, pooder@rchland.vnet.ibm.com (Don Fearn) says:\\n\\n>\\n>When I broke my right leg in two places (not a motorcycle accident -- a \\n>_car_ accident; who woulda thunk it?) I put my crutches on Gretchen's rear\\n>rack.  I'm getting the metal rod pulled out on Friday and going back on \\n>the crutches for six weeks.  I think crutches on the handlebars sound more \\n>aesthetically pleasing.  How did you attach them?\\n\\n\\n\\tWhen I got my knee rebuilt I got back on the street bike ASAP. I put\\nthe crutches on the rack and the passenger seat and they hung out back a\\nLONG way. Just make sure they're tied down tight in front and no problemo.\\n-- \\nGo fast. Take chances.\\n\\n\\tMike S.\\n\""
      ]
     },
     "execution_count": 16,
     "metadata": {},
     "output_type": "execute_result"
    }
   ],
   "source": [
    "data"
   ]
  },
  {
   "cell_type": "code",
   "execution_count": 17,
   "id": "2cb33341",
   "metadata": {},
   "outputs": [],
   "source": [
    "re_url = re.compile(r'(?:http|ftp|https)://(?:[\\w_-]+(?:(?:\\.[\\w_-]+)+))(?:[\\w.,@?^=%&:/~+#-]*[\\w@?^=%&/~+#-])?')\n",
    "re_email = re.compile('(?:[a-z0-9!#$%&\\'*+/=?^_`{|}~-]+(?:\\.[a-z0-9!#$%&\\'*+/=?^_`{|}~-]+)*|\"(?:[\\x01-\\x08\\x0b\\x0c\\x0e-\\x1f\\x21\\x23-\\x5b\\x5d-\\x7f]|\\\\[\\x01-\\x09\\x0b\\x0c\\x0e-\\x7f])*\")@(?:(?:[a-z0-9](?:[a-z0-9-]*[a-z0-9])?\\.)+[a-z0-9](?:[a-z0-9-]*[a-z0-9])?|\\[(?:(?:(2(5[0-5]|[0-4][0-9])|1[0-9][0-9]|[1-9]?[0-9]))\\.){3}(?:(2(5[0-5]|[0-4][0-9])|1[0-9][0-9]|[1-9]?[0-9])|[a-z0-9-]*[a-z0-9]:(?:[\\x01-\\x08\\x0b\\x0c\\x0e-\\x1f\\x21-\\x5a\\x53-\\x7f]|\\\\[\\x01-\\x09\\x0b\\x0c\\x0e-\\x7f])+)\\])')                 "
   ]
  },
  {
   "cell_type": "code",
   "execution_count": 18,
   "id": "6acc6efb",
   "metadata": {},
   "outputs": [],
   "source": [
    "data = clean_text(clean_header(data))"
   ]
  },
  {
   "cell_type": "code",
   "execution_count": 19,
   "id": "ff91e439",
   "metadata": {},
   "outputs": [
    {
     "data": {
      "text/plain": [
       "'path cantaloupesrvcscmuedudasnewsharvardeduogicseemorygatechusenetinscwrueduclevelandfreeneteduai newsgroups recmotorcycles messageid date apr gmt articleid usenet pqhklg references replyto mike sturdevant organization case western reserve university cleveland oh usa lines nntppostinghost slc inscwruedu in a previous article don fearn says when i broke my right leg in two places not a motorcycle accident a car accident who woulda thunk it i put my crutches on gretchens rear rack im getting the metal rod pulled out on friday and going back on the crutches for six weeks i think crutches on the handlebars sound more aesthetically pleasing how did you attach them when i got my knee rebuilt i got back on the street bike asap i put the crutches on the rack and the passenger seat and they hung out back a long way just make sure theyre tied down tight in front and no problemo go fast take chances mike s'"
      ]
     },
     "execution_count": 19,
     "metadata": {},
     "output_type": "execute_result"
    }
   ],
   "source": [
    "data"
   ]
  },
  {
   "cell_type": "code",
   "execution_count": 20,
   "id": "ff724de9",
   "metadata": {},
   "outputs": [],
   "source": [
    "data=remove_stopwords(nlp(data))"
   ]
  },
  {
   "cell_type": "code",
   "execution_count": 21,
   "id": "0151bb57",
   "metadata": {},
   "outputs": [
    {
     "data": {
      "text/plain": [
       "path cantaloupesrvcscmuedudasnewsharvardeduogicseemorygatechusenetinscwrueduclevelandfreeneteduai newsgroups recmotorcycles messageid date apr gmt articleid usenet pqhklg references replyto mike sturdevant organization case western reserve university cleveland oh usa lines nntppostinghost slc inscwruedu previous article don fearn says broke right leg places motorcycle accident car accident woulda thunk crutches gretchens rear rack m getting metal rod pulled friday going crutches weeks think crutches handlebars sound aesthetically pleasing attach got knee rebuilt got street bike asap crutches rack passenger seat hung long way sure tied tight problemo fast chances mike s "
      ]
     },
     "execution_count": 21,
     "metadata": {},
     "output_type": "execute_result"
    }
   ],
   "source": [
    "data"
   ]
  },
  {
   "cell_type": "code",
   "execution_count": 22,
   "id": "fc1780d4",
   "metadata": {},
   "outputs": [],
   "source": [
    "data= ' '.join(token.lemma_ for token in data)"
   ]
  },
  {
   "cell_type": "code",
   "execution_count": 23,
   "id": "4c9ab175",
   "metadata": {},
   "outputs": [
    {
     "data": {
      "text/plain": [
       "'path cantaloupesrvcscmuedudasnewsharvardeduogicseemorygatechusenetinscwrueduclevelandfreeneteduai newsgroup recmotorcycle messageid date apr gmt articleid usenet pqhklg reference replyto mike sturdevant organization case western reserve university cleveland oh usa line nntppostinghost slc inscwruedu previous article don fearn say break right leg place motorcycle accident car accident woulda thunk crutch gretchens rear rack m get metal rod pull friday go crutch week think crutch handlebar sound aesthetically pleasing attach get knee rebuild get street bike asap crutch rack passenger seat hang long way sure tie tight problemo fast chance mike s'"
      ]
     },
     "execution_count": 23,
     "metadata": {},
     "output_type": "execute_result"
    }
   ],
   "source": [
    "data"
   ]
  },
  {
   "cell_type": "code",
   "execution_count": 24,
   "id": "37f133f9",
   "metadata": {},
   "outputs": [],
   "source": [
    "names = ['alt.atheism', 'comp.graphics', 'comp.os.ms-windows.misc',\n",
    "       'comp.sys.ibm.pc.hardware', 'comp.sys.mac.hardware',\n",
    "       'comp.windows.x', 'misc.forsale', 'rec.autos', 'rec.motorcycles',\n",
    "       'rec.sport.baseball', 'rec.sport.hockey', 'sci.crypt',\n",
    "       'sci.electronics', 'sci.med', 'sci.space',\n",
    "       'soc.religion.christian', 'talk.politics.guns',\n",
    "       'talk.politics.mideast', 'talk.politics.misc',\n",
    "       'talk.religion.misc']"
   ]
  },
  {
   "cell_type": "code",
   "execution_count": 36,
   "id": "61114b41",
   "metadata": {},
   "outputs": [
    {
     "name": "stderr",
     "output_type": "stream",
     "text": [
      "C:\\Users\\mhmed\\AppData\\Local\\Temp\\ipykernel_7312\\388543793.py:1: DeprecationWarning: Please use `csr_matrix` from the `scipy.sparse` namespace, the `scipy.sparse.csr` namespace is deprecated.\n",
      "  vectorizer = pickle.load(open('TfidfVectorizer.pkl', 'rb'))\n"
     ]
    }
   ],
   "source": [
    "vectorizer = pickle.load(open('TfidfVectorizer.pkl', 'rb'))"
   ]
  },
  {
   "cell_type": "code",
   "execution_count": null,
   "id": "4af374c9",
   "metadata": {},
   "outputs": [],
   "source": [
    "data=vectorizer.transform(data)"
   ]
  },
  {
   "cell_type": "code",
   "execution_count": 33,
   "id": "d6f0d6db",
   "metadata": {},
   "outputs": [],
   "source": [
    "bestmodel = pickle.load(open('XGBClassifierModel.pkl', 'rb'))"
   ]
  },
  {
   "cell_type": "code",
   "execution_count": null,
   "id": "cc78adb5",
   "metadata": {},
   "outputs": [],
   "source": []
  },
  {
   "cell_type": "code",
   "execution_count": null,
   "id": "f1b116d7",
   "metadata": {},
   "outputs": [],
   "source": []
  },
  {
   "cell_type": "code",
   "execution_count": null,
   "id": "b5481df6",
   "metadata": {},
   "outputs": [],
   "source": []
  },
  {
   "cell_type": "code",
   "execution_count": null,
   "id": "8e2e2f83",
   "metadata": {},
   "outputs": [],
   "source": []
  },
  {
   "cell_type": "code",
   "execution_count": null,
   "id": "b8dea582",
   "metadata": {},
   "outputs": [],
   "source": []
  },
  {
   "cell_type": "code",
   "execution_count": null,
   "id": "31d5892b",
   "metadata": {},
   "outputs": [],
   "source": []
  },
  {
   "cell_type": "code",
   "execution_count": null,
   "id": "fb70aace",
   "metadata": {},
   "outputs": [],
   "source": []
  }
 ],
 "metadata": {
  "kernelspec": {
   "display_name": "nlp",
   "language": "python",
   "name": "nlp"
  },
  "language_info": {
   "codemirror_mode": {
    "name": "ipython",
    "version": 3
   },
   "file_extension": ".py",
   "mimetype": "text/x-python",
   "name": "python",
   "nbconvert_exporter": "python",
   "pygments_lexer": "ipython3",
   "version": "3.10.11"
  }
 },
 "nbformat": 4,
 "nbformat_minor": 5
}
